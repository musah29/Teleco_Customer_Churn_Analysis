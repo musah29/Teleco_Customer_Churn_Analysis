{
  "nbformat": 4,
  "nbformat_minor": 0,
  "metadata": {
    "colab": {
      "provenance": [],
      "mount_file_id": "1_y6uFpzeAFV51lK9YpoN06HLFgsFkSkp",
      "authorship_tag": "ABX9TyPk18SBvzht7lABP1gPTk9N",
      "include_colab_link": true
    },
    "kernelspec": {
      "name": "python3",
      "display_name": "Python 3"
    },
    "language_info": {
      "name": "python"
    }
  },
  "cells": [
    {
      "cell_type": "markdown",
      "metadata": {
        "id": "view-in-github",
        "colab_type": "text"
      },
      "source": [
        "<a href=\"https://colab.research.google.com/github/musah29/Teleco_Customer_Churn_Analysis/blob/main/LP3_TELCO_CHURN_ANALYSIS.ipynb\" target=\"_parent\"><img src=\"https://colab.research.google.com/assets/colab-badge.svg\" alt=\"Open In Colab\"/></a>"
      ]
    },
    {
      "cell_type": "markdown",
      "source": [
        "**GROUP BEIJING**\n",
        "\n",
        "**TELCOM CUSTOMER CHURN ANALYSIS**"
      ],
      "metadata": {
        "id": "QC6bt1aufBw0"
      }
    },
    {
      "cell_type": "markdown",
      "source": [
        "In the highly competitive telecommunications industry, retaining customers is crucial for the success of any company. Customer churn, or the loss of customers to competitors or other reasons, can have a significant impact on a telecom company's revenue and profitability. Therefore, predicting and reducing customer churn is a top priority for many telecom companies. In this project, we aim to perform a churn analysis using four machine learning models to predict which customers are most likely to churn. By analyzing customer behavior, usage patterns, and other relevant factors, we can identify the key factors driving churn and develop targeted strategies to retain customers. The goal of this project is to provide valuable insights for telecom companies to reduce churn and improve customer retention rates."
      ],
      "metadata": {
        "id": "vLAICG96foZa"
      }
    },
    {
      "cell_type": "markdown",
      "source": [
        "IMPORTATIONS"
      ],
      "metadata": {
        "id": "jJAlR5HdgDh7"
      }
    },
    {
      "cell_type": "code",
      "source": [
        "import pandas as pd\n",
        "import numpy as np\n",
        "import seaborn as sns\n",
        "import matplotlib.pyplot as plt"
      ],
      "metadata": {
        "id": "3r1rPQbgkC4J"
      },
      "execution_count": 1,
      "outputs": []
    },
    {
      "cell_type": "code",
      "source": [
        "customer_list=pd.read_csv('')"
      ],
      "metadata": {
        "id": "zjo8wggWkSZ-"
      },
      "execution_count": null,
      "outputs": []
    },
    {
      "cell_type": "markdown",
      "source": [
        "# New section"
      ],
      "metadata": {
        "id": "7KDCLp7ek66c"
      }
    },
    {
      "cell_type": "code",
      "source": [],
      "metadata": {
        "id": "8ByoiCUofqkp"
      },
      "execution_count": null,
      "outputs": []
    }
  ]
}